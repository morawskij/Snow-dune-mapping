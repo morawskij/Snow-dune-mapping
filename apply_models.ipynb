{
 "cells": [
  {
   "cell_type": "code",
   "execution_count": 5,
   "id": "d7d4722c-aa92-4404-9489-92bd68dca3ea",
   "metadata": {},
   "outputs": [],
   "source": [
    "import numpy as np\n",
    "import matplotlib.pyplot as plt\n",
    "import rasterio\n",
    "import matplotlib.colors as clr\n",
    "import matplotlib.cm\n",
    "from mpl_toolkits.axes_grid1 import make_axes_locatable\n",
    "import time\n",
    "from raster_data import treshold_data_criterion, change_cmap\n",
    "from raster_data import DEM\n",
    "import scipy.ndimage as nd\n",
    "from skimage import morphology"
   ]
  },
  {
   "cell_type": "code",
   "execution_count": 6,
   "id": "d90c987d-d470-456d-bd5d-ca720c58f803",
   "metadata": {
    "scrolled": true
   },
   "outputs": [],
   "source": [
    "\n",
    "paths_to_precomputed = {'RR':r'F:\\JM_stage\\Full_Python_approach\\test_DEM_RR.tif','slopes':r'F:\\JM_stage\\Full_Python_approach\\test_DEM_slopes.tif','LoG':r'F:\\JM_stage\\Full_Python_approach\\test_DEM_LoG.tif','VO':r'F:\\JM_stage\\Full_Python_approach\\test_DEM_VO.tif','VOP':r'F:\\JM_stage\\Full_Python_approach\\test_DEM_VOP.tif','VON':r'F:\\JM_stage\\Full_Python_approach\\test_DEM_VON.tif'}\n",
    "#paths_to_precomputed = {}\n",
    "\n",
    "DEM_test = DEM(paths_to_precomputed=paths_to_precomputed,from_path=True,input_path=r'F:\\JM_stage\\Full_Python_approach\\test_DEM.tif',data_criterion=treshold_data_criterion(-5),name=\"DEM\",starting_visual=False,precompute=True,verbose=True)"
   ]
  },
  {
   "cell_type": "code",
   "execution_count": 7,
   "id": "83fb66ac-e353-48f4-9887-335ab66f53fd",
   "metadata": {},
   "outputs": [
    {
     "name": "stdout",
     "output_type": "stream",
     "text": [
      "Starting AI based model\n",
      "Loading pre-computed raw AI output\n",
      "Starting cleaning up\n",
      "Cleaning up completed in 0.26 s\n",
      "Starting thinning of the skeleton\n",
      "Thinning the skeleton performed in 1.53 s\n",
      "Starting cleaning up\n",
      "Cleaning up completed in 0.13 s\n",
      "Treshold based model evaluated in 2.27 s\n",
      "Crest skeletonization\n",
      "Starting skeletonization\n",
      "Entering stage 1/4\n",
      "Entering stage 2/4\n",
      "Entering stage 3/4\n",
      "Entering stage 4/4\n",
      "Skeletonization completed in 82.21 s\n",
      "Starting thinning of the skeleton\n",
      "Thinning the skeleton performed in 1.76 s\n"
     ]
    }
   ],
   "source": [
    "crest_path=r'F:\\JM_stage\\Full_Python_approach\\test_AI_predictions_crest_skeleton.tif'\n",
    "#crest_path=None\n",
    "#output_pred=r'F:\\JM_stage\\Full_Python_approach\\test_AI_predictions_postcut.tif'\n",
    "output_pred=None\n",
    "prediction_raster=DEM_test.dune_predictions(method='AI',AI_treshold=0.9,output_to_file=output_pred,AI_raw_output=r'F:\\JM_stage\\Full_Python_approach\\test_AI_predictions_raw.tif',AI_model=r'F:\\JM_stage\\Training_data\\models\\binary_input_with_troughs_based_model_trained_on_python_computed_LoG.h5',save_skeleton=r'F:\\JM_stage\\Full_Python_approach\\test_AI_predictions_skeleton.tif',save_crests=crest_path,AI_raw_precomputed=r'F:\\JM_stage\\Full_Python_approach\\test_AI_predictions_raw.tif',path_to_skeleton=r'F:\\JM_stage\\Full_Python_approach\\test_AI_predictions_skeleton.tif')\n"
   ]
  },
  {
   "cell_type": "code",
   "execution_count": 7,
   "id": "c362ed8b-f24c-4e10-a183-5605c01e03be",
   "metadata": {},
   "outputs": [
    {
     "name": "stdout",
     "output_type": "stream",
     "text": [
      "Starting slopes based model\n",
      "Starting slopes based prediction\n",
      "slopes based prediction calculated in 1.00 s\n",
      "Starting cleaning up\n",
      "Cleaning up completed in 0.24 s\n",
      "Starting buffering\n",
      "Buffering completed in 0.23 s\n",
      "Trough skeletonization\n",
      "Starting skeletonization\n",
      "Entering stage 1/4\n",
      "Entering stage 2/4\n",
      "Entering stage 3/4\n",
      "Entering stage 4/4\n",
      "Skeletonization completed in 141.46 s\n",
      "Starting thinning of the skeleton\n",
      "Thinning the skeleton performed in 1.64 s\n",
      "Starting cleaning up\n",
      "Cleaning up completed in 0.12 s\n",
      "Treshold based model evaluated in 146.20 s\n",
      "Crest skeletonization\n",
      "Starting skeletonization\n",
      "Entering stage 1/4\n",
      "Entering stage 2/4\n",
      "Entering stage 3/4\n",
      "Entering stage 4/4\n",
      "Skeletonization completed in 96.45 s\n",
      "Starting thinning of the skeleton\n",
      "Thinning the skeleton performed in 3.04 s\n"
     ]
    }
   ],
   "source": [
    "crest_path=r'F:\\JM_stage\\Full_Python_approach\\test_slope_predictions_crest_skeleton.tif'\n",
    "output_pred=r'F:\\JM_stage\\Full_Python_approach\\test_slopes_predictions_postcut.tif'\n",
    "\n",
    "prediction_raster_slope=DEM_test.dune_predictions(method='slopes',output_to_file=output_pred,save_crests=crest_path)\n"
   ]
  },
  {
   "cell_type": "code",
   "execution_count": 10,
   "id": "9ca1c28d-3c54-48d5-ba4c-092bd426eb29",
   "metadata": {},
   "outputs": [],
   "source": [
    "DEM_test.write_single_band_tif(r'F:\\JM_stage\\Full_Python_approach\\test_DEM_smoothed.tif')\n",
    "DEM_test.VOP.write_single_band_tif(r'F:\\JM_stage\\Full_Python_approach\\test_DEM_VOP.tif',dtype=rasterio.float32)\n",
    "DEM_test.VON.write_single_band_tif(r'F:\\JM_stage\\Full_Python_approach\\test_DEM_VON.tif',dtype=rasterio.float32)\n",
    "DEM_test.RR.write_single_band_tif(r'F:\\JM_stage\\Full_Python_approach\\test_DEM_RR.tif')\n",
    "DEM_test.LoG.write_single_band_tif(r'F:\\JM_stage\\Full_Python_approach\\test_DEM_LoG.tif')\n",
    "DEM_test.slopes.write_single_band_tif(r'F:\\JM_stage\\Full_Python_approach\\test_DEM_slopes.tif')\n",
    "DEM_test.VO.write_single_band_tif(r'F:\\JM_stage\\Full_Python_approach\\test_DEM_VO.tif',dtype=rasterio.float32)"
   ]
  },
  {
   "cell_type": "code",
   "execution_count": null,
   "id": "0b7ed6a0-a18a-4240-aa54-405dc7730329",
   "metadata": {},
   "outputs": [],
   "source": []
  },
  {
   "cell_type": "code",
   "execution_count": null,
   "id": "48703a45-4775-499d-8ff9-970739eaf05c",
   "metadata": {},
   "outputs": [],
   "source": []
  }
 ],
 "metadata": {
  "kernelspec": {
   "display_name": "Python [conda env:base] *",
   "language": "python",
   "name": "conda-base-py"
  },
  "language_info": {
   "codemirror_mode": {
    "name": "ipython",
    "version": 3
   },
   "file_extension": ".py",
   "mimetype": "text/x-python",
   "name": "python",
   "nbconvert_exporter": "python",
   "pygments_lexer": "ipython3",
   "version": "3.12.7"
  }
 },
 "nbformat": 4,
 "nbformat_minor": 5
}
